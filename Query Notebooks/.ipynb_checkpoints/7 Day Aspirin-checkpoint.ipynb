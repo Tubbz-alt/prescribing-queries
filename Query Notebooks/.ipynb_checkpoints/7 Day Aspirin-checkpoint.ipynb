{
 "cells": [
  {
   "cell_type": "markdown",
   "metadata": {},
   "source": [
    "A user has requested how many seven day prescriptions there are for Aspirin as a proprotion of all prescriptions for Aspirin. The aim is to use as a surrogate for dosette boxes"
   ]
  },
  {
   "cell_type": "code",
   "execution_count": null,
   "metadata": {},
   "outputs": [],
   "source": [
    "##importing libraries\n",
    "import pandas as pd\n",
    "import numpy as np\n",
    "from ebmdatalab import bq, maps, charts\n",
    "import matplotlib.pyplot as plt\n",
    "import matplotlib.gridspec as gridspec"
   ]
  },
  {
   "cell_type": "code",
   "execution_count": null,
   "metadata": {},
   "outputs": [],
   "source": [
    "sql = '''\n",
    "SELECT\n",
    "  PCO_Name,\n",
    "  PCO_Code,\n",
    "  bnf_code AS bnf_code,\n",
    "  bnf_description AS bnf_name,\n",
    "  Items,\n",
    "  Quantity\n",
    "FROM\n",
    "  ebmdatalab.tmp_eu.raw_prescribing_data_2019_04 AS presc\n",
    "WHERE\n",
    "  (bnf_code LIKE \"0209000A0AA%BAB\" ##dispersible 75mg\n",
    "  OR bnf_code LIKE \"0209000A0AA%JAJ\" ##normal 75mg tabs\n",
    "  OR bnf_code LIKE \"0209000A0AA%KAK\") ##enteric coated 75mg\n",
    "  GROUP BY\n",
    "    PCO_Name,\n",
    "    PCO_Code,\n",
    "    bnf_code,\n",
    "    bnf_name,\n",
    "    Items,\n",
    "    Quantity'''\n",
    "\n",
    "df_aspirin = bq.cached_read(sql, csv_path='aspirin_sevendays.csv')\n",
    "df_aspirin.rename(columns={'PCO_Code':'pct'}, inplace=True)\n",
    "df_aspirin.head(5)"
   ]
  },
  {
   "cell_type": "code",
   "execution_count": null,
   "metadata": {},
   "outputs": [],
   "source": [
    "##check Englaish total \n",
    "eng_total = df_aspirin.sum()[['Items','Quantity']]\n",
    "eng_total"
   ]
  },
  {
   "cell_type": "code",
   "execution_count": null,
   "metadata": {},
   "outputs": [],
   "source": [
    "##group and sum items\n",
    "ccg_total = df_aspirin.groupby('PCO_Name').sum()[['Items']]\n",
    "ccg_total.head(5)"
   ]
  },
  {
   "cell_type": "code",
   "execution_count": null,
   "metadata": {},
   "outputs": [],
   "source": [
    "##islolate prescriptions with quantities of 7\n",
    "df_aspirin_sevendays = df_aspirin.loc[df_aspirin['Quantity'] == 7]\n",
    "df_aspirin_sevendays.rename(columns={'Items':'sevendayitems'}, inplace=True) ##renaming column\n",
    "df_aspirin_sevendays.head(5)"
   ]
  },
  {
   "cell_type": "code",
   "execution_count": null,
   "metadata": {},
   "outputs": [],
   "source": [
    "ccg_sevenday_total = df_aspirin_sevendays.groupby('PCO_Name').sum()[['sevendayitems']]\n",
    "ccg_sevenday_total.head(5)"
   ]
  },
  {
   "cell_type": "code",
   "execution_count": null,
   "metadata": {},
   "outputs": [],
   "source": [
    "dosette_boxes_ccg = pd.concat([ccg_total, ccg_sevenday_total], axis=1, join='inner')\n",
    "dosette_boxes_ccg[\"proportion_seven_days\"] = 100*(dosette_boxes_ccg.sevendayitems/dosette_boxes_ccg.Items).fillna(0)\n",
    "dosette_boxes_ccg.head()"
   ]
  },
  {
   "cell_type": "code",
   "execution_count": null,
   "metadata": {},
   "outputs": [],
   "source": [
    "dosette_boxes_ccg.to_csv('aspirin.csv')"
   ]
  },
  {
   "cell_type": "code",
   "execution_count": null,
   "metadata": {},
   "outputs": [],
   "source": [
    "#work out english total\n",
    "eng_total2 = df5.sum()[['Items','sevendayitems']]\n",
    "eng_total2"
   ]
  },
  {
   "cell_type": "markdown",
   "metadata": {},
   "source": [
    "circa 21% of Aspirin 75mg items are written as a seven day prescription."
   ]
  }
 ],
 "metadata": {
  "kernelspec": {
   "display_name": "Python 3",
   "language": "python",
   "name": "python3"
  },
  "language_info": {
   "codemirror_mode": {
    "name": "ipython",
    "version": 3
   },
   "file_extension": ".py",
   "mimetype": "text/x-python",
   "name": "python",
   "nbconvert_exporter": "python",
   "pygments_lexer": "ipython3",
   "version": "3.6.5"
  }
 },
 "nbformat": 4,
 "nbformat_minor": 2
}
