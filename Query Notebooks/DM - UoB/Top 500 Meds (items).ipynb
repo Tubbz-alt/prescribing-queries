{
 "cells": [
  {
   "cell_type": "code",
   "execution_count": 1,
   "metadata": {},
   "outputs": [],
   "source": [
    "import pandas as pd\n",
    "import numpy as np\n",
    "from ebmdatalab import bq, maps, charts"
   ]
  },
  {
   "cell_type": "code",
   "execution_count": 2,
   "metadata": {},
   "outputs": [
    {
     "name": "stderr",
     "output_type": "stream",
     "text": [
      "C:\\Users\\bmackenna\\Anaconda3\\lib\\site-packages\\pandas\\io\\gbq.py:149: FutureWarning: verbose is deprecated and will be removed in a future version. Set logging level in order to vary verbosity\n",
      "  credentials=credentials, verbose=verbose, private_key=private_key)\n"
     ]
    },
    {
     "data": {
      "text/html": [
       "<div>\n",
       "<style scoped>\n",
       "    .dataframe tbody tr th:only-of-type {\n",
       "        vertical-align: middle;\n",
       "    }\n",
       "\n",
       "    .dataframe tbody tr th {\n",
       "        vertical-align: top;\n",
       "    }\n",
       "\n",
       "    .dataframe thead th {\n",
       "        text-align: right;\n",
       "    }\n",
       "</style>\n",
       "<table border=\"1\" class=\"dataframe\">\n",
       "  <thead>\n",
       "    <tr style=\"text-align: right;\">\n",
       "      <th></th>\n",
       "      <th>chemical_code</th>\n",
       "      <th>chemical</th>\n",
       "      <th>items</th>\n",
       "      <th>actualcost</th>\n",
       "    </tr>\n",
       "  </thead>\n",
       "  <tbody>\n",
       "    <tr>\n",
       "      <th>0</th>\n",
       "      <td>0212000B0</td>\n",
       "      <td>Atorvastatin</td>\n",
       "      <td>41785033</td>\n",
       "      <td>4.880236e+07</td>\n",
       "    </tr>\n",
       "    <tr>\n",
       "      <th>1</th>\n",
       "      <td>0602010V0</td>\n",
       "      <td>Levothyroxine Sodium</td>\n",
       "      <td>32158560</td>\n",
       "      <td>6.265076e+07</td>\n",
       "    </tr>\n",
       "    <tr>\n",
       "      <th>2</th>\n",
       "      <td>0103050P0</td>\n",
       "      <td>Omeprazole</td>\n",
       "      <td>30970698</td>\n",
       "      <td>4.225413e+07</td>\n",
       "    </tr>\n",
       "    <tr>\n",
       "      <th>3</th>\n",
       "      <td>0206020A0</td>\n",
       "      <td>Amlodipine</td>\n",
       "      <td>29027041</td>\n",
       "      <td>3.860608e+07</td>\n",
       "    </tr>\n",
       "    <tr>\n",
       "      <th>4</th>\n",
       "      <td>0205051R0</td>\n",
       "      <td>Ramipril</td>\n",
       "      <td>28580631</td>\n",
       "      <td>3.904055e+07</td>\n",
       "    </tr>\n",
       "  </tbody>\n",
       "</table>\n",
       "</div>"
      ],
      "text/plain": [
       "  chemical_code              chemical     items    actualcost\n",
       "0     0212000B0          Atorvastatin  41785033  4.880236e+07\n",
       "1     0602010V0  Levothyroxine Sodium  32158560  6.265076e+07\n",
       "2     0103050P0            Omeprazole  30970698  4.225413e+07\n",
       "3     0206020A0            Amlodipine  29027041  3.860608e+07\n",
       "4     0205051R0              Ramipril  28580631  3.904055e+07"
      ]
     },
     "execution_count": 2,
     "metadata": {},
     "output_type": "execute_result"
    }
   ],
   "source": [
    "##extracting top 500 info as requested\n",
    "sql = '''\n",
    "WITH\n",
    "  bnf_tab AS (\n",
    "  SELECT\n",
    "    DISTINCT chemical,\n",
    "    chemical_code\n",
    "  FROM\n",
    "    ebmdatalab.hscic.bnf )\n",
    "SELECT\n",
    " SUBSTR(presc.bnf_code, 0, 9) AS chemical_code,\n",
    " chemical,\n",
    " SUM(items) AS items,\n",
    " Sum(actual_cost) AS actualcost\n",
    "FROM\n",
    "ebmdatalab.hscic.normalised_prescribing_standard AS presc\n",
    "LEFT JOIN\n",
    "bnf_tab\n",
    "ON\n",
    "chemical_code=SUBSTR(presc.bnf_code,0,9)\n",
    "WHERE\n",
    " month BETWEEN TIMESTAMP('2018-01-01')\n",
    " AND TIMESTAMP('2018-12-01')\n",
    "GROUP BY\n",
    "chemical_code,\n",
    "chemical\n",
    "ORDER BY\n",
    " items DESC\n",
    " LIMIT 500\n",
    "  '''\n",
    "\n",
    "df_500 = bq.cached_read(sql, csv_path='500.csv')\n",
    "df_500.head()"
   ]
  },
  {
   "cell_type": "code",
   "execution_count": null,
   "metadata": {},
   "outputs": [],
   "source": []
  }
 ],
 "metadata": {
  "kernelspec": {
   "display_name": "Python 3",
   "language": "python",
   "name": "python3"
  },
  "language_info": {
   "codemirror_mode": {
    "name": "ipython",
    "version": 3
   },
   "file_extension": ".py",
   "mimetype": "text/x-python",
   "name": "python",
   "nbconvert_exporter": "python",
   "pygments_lexer": "ipython3",
   "version": "3.6.5"
  }
 },
 "nbformat": 4,
 "nbformat_minor": 2
}
