{
 "cells": [
  {
   "cell_type": "code",
   "execution_count": null,
   "metadata": {},
   "outputs": [],
   "source": [
    "import pandas as pd\n",
    "import numpy as np\n",
    "GBQ_PROJECT_ID = '620265099307'"
   ]
  },
  {
   "cell_type": "code",
   "execution_count": null,
   "metadata": {},
   "outputs": [],
   "source": [
    "q = '''\n",
    "SELECT\n",
    "  pct,\n",
    "  bnf_code AS BNFCode,\n",
    "  bnf_name AS BNFName,\n",
    "  SUM(items) AS TotalItems,\n",
    "  SUM(actual_cost) AS TotalCost\n",
    "FROM\n",
    "  ebmdatalab.hscic.normalised_prescribing_standard AS presc\n",
    "WHERE\n",
    "  bnf_code LIKE \"0208020Y0%\"\n",
    "  OR bnf_code LIKE \"0208020X0%\"\n",
    "  OR bnf_code LIKE \"0208020Z0%\"\n",
    "  OR bnf_code LIKE \"0208020AA%\"\n",
    "  OR bnf_code LIKE \"0208020V0%\"\n",
    "  OR bnf_code LIKE \"0208020H0%\"\n",
    "  OR bnf_code LIKE \"0208020N0%\"\n",
    "GROUP BY\n",
    "  pct,\n",
    "  bnf_code,\n",
    "  bnf_name\n",
    "  '''\n",
    "\n",
    "table = pd.read_gbq(q, GBQ_PROJECT_ID, dialect='standard')\n",
    "table.to_csv(\"Sophia Lee NICE - Anticoagulant Request.csv\")\n",
    "\n",
    "table\n"
   ]
  },
  {
   "cell_type": "code",
   "execution_count": null,
   "metadata": {},
   "outputs": [],
   "source": []
  }
 ],
 "metadata": {
  "kernelspec": {
   "display_name": "Python 3",
   "language": "python",
   "name": "python3"
  },
  "language_info": {
   "codemirror_mode": {
    "name": "ipython",
    "version": 3
   },
   "file_extension": ".py",
   "mimetype": "text/x-python",
   "name": "python",
   "nbconvert_exporter": "python",
   "pygments_lexer": "ipython3",
   "version": "3.6.5"
  }
 },
 "nbformat": 4,
 "nbformat_minor": 2
}
