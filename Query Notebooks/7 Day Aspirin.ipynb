{
 "cells": [
  {
   "cell_type": "markdown",
   "metadata": {},
   "source": [
    "A user has requested how many seven day prescriptions there are for Aspirin as a proprotion of all prescriptions for Aspirin. The aim is to use as a surrogate for dosette boxes\n",
    "\n",
    "Aspirin 75mg is once daily so prescriptions with a seven day course length are indicative of weeekly scripts which are sometimes used (erroneously)  to support dispensing in dosette boxes. "
   ]
  },
  {
   "cell_type": "code",
   "execution_count": 10,
   "metadata": {},
   "outputs": [],
   "source": [
    "##importing libraries\n",
    "import pandas as pd\n",
    "import numpy as np\n",
    "from ebmdatalab import bq, maps, charts\n",
    "import matplotlib.pyplot as plt\n",
    "import matplotlib.gridspec as gridspec"
   ]
  },
  {
   "cell_type": "code",
   "execution_count": 11,
   "metadata": {},
   "outputs": [
    {
     "name": "stderr",
     "output_type": "stream",
     "text": [
      "C:\\Users\\bmackenna\\Anaconda3\\lib\\site-packages\\pandas\\io\\gbq.py:149: FutureWarning: verbose is deprecated and will be removed in a future version. Set logging level in order to vary verbosity\n",
      "  credentials=credentials, verbose=verbose, private_key=private_key)\n"
     ]
    },
    {
     "data": {
      "text/html": [
       "<div>\n",
       "<style scoped>\n",
       "    .dataframe tbody tr th:only-of-type {\n",
       "        vertical-align: middle;\n",
       "    }\n",
       "\n",
       "    .dataframe tbody tr th {\n",
       "        vertical-align: top;\n",
       "    }\n",
       "\n",
       "    .dataframe thead th {\n",
       "        text-align: right;\n",
       "    }\n",
       "</style>\n",
       "<table border=\"1\" class=\"dataframe\">\n",
       "  <thead>\n",
       "    <tr style=\"text-align: right;\">\n",
       "      <th></th>\n",
       "      <th>PCO_Name</th>\n",
       "      <th>pct</th>\n",
       "      <th>bnf_code</th>\n",
       "      <th>bnf_name</th>\n",
       "      <th>Items</th>\n",
       "      <th>Quantity</th>\n",
       "    </tr>\n",
       "  </thead>\n",
       "  <tbody>\n",
       "    <tr>\n",
       "      <th>0</th>\n",
       "      <td>SOUTH WARWICKSHIRE CCG</td>\n",
       "      <td>05R00</td>\n",
       "      <td>0209000A0AAABAB</td>\n",
       "      <td>Aspirin Disper_Tab 75mg</td>\n",
       "      <td>98</td>\n",
       "      <td>28</td>\n",
       "    </tr>\n",
       "    <tr>\n",
       "      <th>1</th>\n",
       "      <td>SOUTH WARWICKSHIRE CCG</td>\n",
       "      <td>05R00</td>\n",
       "      <td>0209000A0AAABAB</td>\n",
       "      <td>Aspirin Disper_Tab 75mg</td>\n",
       "      <td>19</td>\n",
       "      <td>56</td>\n",
       "    </tr>\n",
       "    <tr>\n",
       "      <th>2</th>\n",
       "      <td>SOUTH WARWICKSHIRE CCG</td>\n",
       "      <td>05R00</td>\n",
       "      <td>0209000A0AAABAB</td>\n",
       "      <td>Aspirin Disper_Tab 75mg</td>\n",
       "      <td>15</td>\n",
       "      <td>7</td>\n",
       "    </tr>\n",
       "    <tr>\n",
       "      <th>3</th>\n",
       "      <td>SOUTH WARWICKSHIRE CCG</td>\n",
       "      <td>05R00</td>\n",
       "      <td>0209000A0AAABAB</td>\n",
       "      <td>Aspirin Disper_Tab 75mg</td>\n",
       "      <td>262</td>\n",
       "      <td>28</td>\n",
       "    </tr>\n",
       "    <tr>\n",
       "      <th>4</th>\n",
       "      <td>SOUTH WARWICKSHIRE CCG</td>\n",
       "      <td>05R00</td>\n",
       "      <td>0209000A0AAABAB</td>\n",
       "      <td>Aspirin Disper_Tab 75mg</td>\n",
       "      <td>5</td>\n",
       "      <td>56</td>\n",
       "    </tr>\n",
       "  </tbody>\n",
       "</table>\n",
       "</div>"
      ],
      "text/plain": [
       "                 PCO_Name    pct         bnf_code                 bnf_name  \\\n",
       "0  SOUTH WARWICKSHIRE CCG  05R00  0209000A0AAABAB  Aspirin Disper_Tab 75mg   \n",
       "1  SOUTH WARWICKSHIRE CCG  05R00  0209000A0AAABAB  Aspirin Disper_Tab 75mg   \n",
       "2  SOUTH WARWICKSHIRE CCG  05R00  0209000A0AAABAB  Aspirin Disper_Tab 75mg   \n",
       "3  SOUTH WARWICKSHIRE CCG  05R00  0209000A0AAABAB  Aspirin Disper_Tab 75mg   \n",
       "4  SOUTH WARWICKSHIRE CCG  05R00  0209000A0AAABAB  Aspirin Disper_Tab 75mg   \n",
       "\n",
       "   Items  Quantity  \n",
       "0     98        28  \n",
       "1     19        56  \n",
       "2     15         7  \n",
       "3    262        28  \n",
       "4      5        56  "
      ]
     },
     "execution_count": 11,
     "metadata": {},
     "output_type": "execute_result"
    }
   ],
   "source": [
    "sql = '''\n",
    "SELECT\n",
    "  PCO_Name,\n",
    "  PCO_Code,\n",
    "  bnf_code AS bnf_code,\n",
    "  bnf_description AS bnf_name,\n",
    "  Items,\n",
    "  Quantity\n",
    "FROM\n",
    "  ebmdatalab.tmp_eu.raw_prescribing_data_2019_04 AS presc\n",
    "WHERE\n",
    "  (bnf_code LIKE \"0209000A0AA%BAB\" ##dispersible 75mg\n",
    "  OR bnf_code LIKE \"0209000A0AA%JAJ\" ##normal 75mg tabs\n",
    "  OR bnf_code LIKE \"0209000A0AA%KAK\") ##enteric coated 75mg\n",
    "'''\n",
    "\n",
    "df_aspirin = bq.cached_read(sql, csv_path='aspirin_sevendays.csv')\n",
    "df_aspirin.rename(columns={'PCO_Code':'pct'}, inplace=True)\n",
    "df_aspirin.head(5)"
   ]
  },
  {
   "cell_type": "code",
   "execution_count": 12,
   "metadata": {},
   "outputs": [
    {
     "data": {
      "text/plain": [
       "Items       1830321\n",
       "Quantity    3137207\n",
       "dtype: object"
      ]
     },
     "execution_count": 12,
     "metadata": {},
     "output_type": "execute_result"
    }
   ],
   "source": [
    "##check Englaish total \n",
    "eng_total = df_aspirin.sum()[['Items','Quantity']]\n",
    "eng_total"
   ]
  },
  {
   "cell_type": "code",
   "execution_count": 13,
   "metadata": {},
   "outputs": [
    {
     "data": {
      "text/html": [
       "<div>\n",
       "<style scoped>\n",
       "    .dataframe tbody tr th:only-of-type {\n",
       "        vertical-align: middle;\n",
       "    }\n",
       "\n",
       "    .dataframe tbody tr th {\n",
       "        vertical-align: top;\n",
       "    }\n",
       "\n",
       "    .dataframe thead th {\n",
       "        text-align: right;\n",
       "    }\n",
       "</style>\n",
       "<table border=\"1\" class=\"dataframe\">\n",
       "  <thead>\n",
       "    <tr style=\"text-align: right;\">\n",
       "      <th></th>\n",
       "      <th>Items</th>\n",
       "    </tr>\n",
       "    <tr>\n",
       "      <th>PCO_Name</th>\n",
       "      <th></th>\n",
       "    </tr>\n",
       "  </thead>\n",
       "  <tbody>\n",
       "    <tr>\n",
       "      <th>AIREDALE, WHARFEDALE AND CRAVEN CCG</th>\n",
       "      <td>5081</td>\n",
       "    </tr>\n",
       "    <tr>\n",
       "      <th>ASHFORD CCG</th>\n",
       "      <td>3521</td>\n",
       "    </tr>\n",
       "    <tr>\n",
       "      <th>BARKING &amp; DAGENHAM CCG</th>\n",
       "      <td>6031</td>\n",
       "    </tr>\n",
       "    <tr>\n",
       "      <th>BARNET CCG</th>\n",
       "      <td>9132</td>\n",
       "    </tr>\n",
       "    <tr>\n",
       "      <th>BARNSLEY CCG</th>\n",
       "      <td>14304</td>\n",
       "    </tr>\n",
       "  </tbody>\n",
       "</table>\n",
       "</div>"
      ],
      "text/plain": [
       "                                     Items\n",
       "PCO_Name                                  \n",
       "AIREDALE, WHARFEDALE AND CRAVEN CCG   5081\n",
       "ASHFORD CCG                           3521\n",
       "BARKING & DAGENHAM CCG                6031\n",
       "BARNET CCG                            9132\n",
       "BARNSLEY CCG                         14304"
      ]
     },
     "execution_count": 13,
     "metadata": {},
     "output_type": "execute_result"
    }
   ],
   "source": [
    "##group and sum items\n",
    "ccg_total = df_aspirin.groupby('PCO_Name').sum()[['Items']]\n",
    "ccg_total.head(5)"
   ]
  },
  {
   "cell_type": "code",
   "execution_count": 14,
   "metadata": {},
   "outputs": [
    {
     "name": "stderr",
     "output_type": "stream",
     "text": [
      "C:\\Users\\bmackenna\\Anaconda3\\lib\\site-packages\\pandas\\core\\frame.py:4025: SettingWithCopyWarning: \n",
      "A value is trying to be set on a copy of a slice from a DataFrame\n",
      "\n",
      "See the caveats in the documentation: http://pandas.pydata.org/pandas-docs/stable/indexing.html#indexing-view-versus-copy\n",
      "  return super(DataFrame, self).rename(**kwargs)\n"
     ]
    },
    {
     "data": {
      "text/html": [
       "<div>\n",
       "<style scoped>\n",
       "    .dataframe tbody tr th:only-of-type {\n",
       "        vertical-align: middle;\n",
       "    }\n",
       "\n",
       "    .dataframe tbody tr th {\n",
       "        vertical-align: top;\n",
       "    }\n",
       "\n",
       "    .dataframe thead th {\n",
       "        text-align: right;\n",
       "    }\n",
       "</style>\n",
       "<table border=\"1\" class=\"dataframe\">\n",
       "  <thead>\n",
       "    <tr style=\"text-align: right;\">\n",
       "      <th></th>\n",
       "      <th>PCO_Name</th>\n",
       "      <th>pct</th>\n",
       "      <th>bnf_code</th>\n",
       "      <th>bnf_name</th>\n",
       "      <th>sevendayitems</th>\n",
       "      <th>Quantity</th>\n",
       "    </tr>\n",
       "  </thead>\n",
       "  <tbody>\n",
       "    <tr>\n",
       "      <th>2</th>\n",
       "      <td>SOUTH WARWICKSHIRE CCG</td>\n",
       "      <td>05R00</td>\n",
       "      <td>0209000A0AAABAB</td>\n",
       "      <td>Aspirin Disper_Tab 75mg</td>\n",
       "      <td>15</td>\n",
       "      <td>7</td>\n",
       "    </tr>\n",
       "    <tr>\n",
       "      <th>7</th>\n",
       "      <td>SOUTH WARWICKSHIRE CCG</td>\n",
       "      <td>05R00</td>\n",
       "      <td>0209000A0AAABAB</td>\n",
       "      <td>Aspirin Disper_Tab 75mg</td>\n",
       "      <td>50</td>\n",
       "      <td>7</td>\n",
       "    </tr>\n",
       "    <tr>\n",
       "      <th>11</th>\n",
       "      <td>SOUTH WARWICKSHIRE CCG</td>\n",
       "      <td>05R00</td>\n",
       "      <td>0209000A0AAABAB</td>\n",
       "      <td>Aspirin Disper_Tab 75mg</td>\n",
       "      <td>47</td>\n",
       "      <td>7</td>\n",
       "    </tr>\n",
       "    <tr>\n",
       "      <th>14</th>\n",
       "      <td>SOUTH WARWICKSHIRE CCG</td>\n",
       "      <td>05R00</td>\n",
       "      <td>0209000A0AAABAB</td>\n",
       "      <td>Aspirin Disper_Tab 75mg</td>\n",
       "      <td>5</td>\n",
       "      <td>7</td>\n",
       "    </tr>\n",
       "    <tr>\n",
       "      <th>18</th>\n",
       "      <td>SOUTH WARWICKSHIRE CCG</td>\n",
       "      <td>05R00</td>\n",
       "      <td>0209000A0AAABAB</td>\n",
       "      <td>Aspirin Disper_Tab 75mg</td>\n",
       "      <td>80</td>\n",
       "      <td>7</td>\n",
       "    </tr>\n",
       "  </tbody>\n",
       "</table>\n",
       "</div>"
      ],
      "text/plain": [
       "                  PCO_Name    pct         bnf_code                 bnf_name  \\\n",
       "2   SOUTH WARWICKSHIRE CCG  05R00  0209000A0AAABAB  Aspirin Disper_Tab 75mg   \n",
       "7   SOUTH WARWICKSHIRE CCG  05R00  0209000A0AAABAB  Aspirin Disper_Tab 75mg   \n",
       "11  SOUTH WARWICKSHIRE CCG  05R00  0209000A0AAABAB  Aspirin Disper_Tab 75mg   \n",
       "14  SOUTH WARWICKSHIRE CCG  05R00  0209000A0AAABAB  Aspirin Disper_Tab 75mg   \n",
       "18  SOUTH WARWICKSHIRE CCG  05R00  0209000A0AAABAB  Aspirin Disper_Tab 75mg   \n",
       "\n",
       "    sevendayitems  Quantity  \n",
       "2              15         7  \n",
       "7              50         7  \n",
       "11             47         7  \n",
       "14              5         7  \n",
       "18             80         7  "
      ]
     },
     "execution_count": 14,
     "metadata": {},
     "output_type": "execute_result"
    }
   ],
   "source": [
    "##islolate prescriptions with quantities of 7\n",
    "df_aspirin_sevendays = df_aspirin.loc[df_aspirin['Quantity'] == 7]\n",
    "df_aspirin_sevendays.rename(columns={'Items':'sevendayitems'}, inplace=True) ##renaming column\n",
    "df_aspirin_sevendays.head(5)"
   ]
  },
  {
   "cell_type": "code",
   "execution_count": 15,
   "metadata": {},
   "outputs": [
    {
     "data": {
      "text/html": [
       "<div>\n",
       "<style scoped>\n",
       "    .dataframe tbody tr th:only-of-type {\n",
       "        vertical-align: middle;\n",
       "    }\n",
       "\n",
       "    .dataframe tbody tr th {\n",
       "        vertical-align: top;\n",
       "    }\n",
       "\n",
       "    .dataframe thead th {\n",
       "        text-align: right;\n",
       "    }\n",
       "</style>\n",
       "<table border=\"1\" class=\"dataframe\">\n",
       "  <thead>\n",
       "    <tr style=\"text-align: right;\">\n",
       "      <th></th>\n",
       "      <th>sevendayitems</th>\n",
       "    </tr>\n",
       "    <tr>\n",
       "      <th>PCO_Name</th>\n",
       "      <th></th>\n",
       "    </tr>\n",
       "  </thead>\n",
       "  <tbody>\n",
       "    <tr>\n",
       "      <th>AIREDALE, WHARFEDALE AND CRAVEN CCG</th>\n",
       "      <td>600</td>\n",
       "    </tr>\n",
       "    <tr>\n",
       "      <th>ASHFORD CCG</th>\n",
       "      <td>119</td>\n",
       "    </tr>\n",
       "    <tr>\n",
       "      <th>BARKING &amp; DAGENHAM CCG</th>\n",
       "      <td>2999</td>\n",
       "    </tr>\n",
       "    <tr>\n",
       "      <th>BARNET CCG</th>\n",
       "      <td>3235</td>\n",
       "    </tr>\n",
       "    <tr>\n",
       "      <th>BARNSLEY CCG</th>\n",
       "      <td>4509</td>\n",
       "    </tr>\n",
       "  </tbody>\n",
       "</table>\n",
       "</div>"
      ],
      "text/plain": [
       "                                     sevendayitems\n",
       "PCO_Name                                          \n",
       "AIREDALE, WHARFEDALE AND CRAVEN CCG            600\n",
       "ASHFORD CCG                                    119\n",
       "BARKING & DAGENHAM CCG                        2999\n",
       "BARNET CCG                                    3235\n",
       "BARNSLEY CCG                                  4509"
      ]
     },
     "execution_count": 15,
     "metadata": {},
     "output_type": "execute_result"
    }
   ],
   "source": [
    "ccg_sevenday_total = df_aspirin_sevendays.groupby('PCO_Name').sum()[['sevendayitems']]\n",
    "ccg_sevenday_total.head(5)"
   ]
  },
  {
   "cell_type": "code",
   "execution_count": 16,
   "metadata": {},
   "outputs": [
    {
     "data": {
      "text/html": [
       "<div>\n",
       "<style scoped>\n",
       "    .dataframe tbody tr th:only-of-type {\n",
       "        vertical-align: middle;\n",
       "    }\n",
       "\n",
       "    .dataframe tbody tr th {\n",
       "        vertical-align: top;\n",
       "    }\n",
       "\n",
       "    .dataframe thead th {\n",
       "        text-align: right;\n",
       "    }\n",
       "</style>\n",
       "<table border=\"1\" class=\"dataframe\">\n",
       "  <thead>\n",
       "    <tr style=\"text-align: right;\">\n",
       "      <th></th>\n",
       "      <th>Items</th>\n",
       "      <th>sevendayitems</th>\n",
       "      <th>percent_seven_days</th>\n",
       "    </tr>\n",
       "    <tr>\n",
       "      <th>PCO_Name</th>\n",
       "      <th></th>\n",
       "      <th></th>\n",
       "      <th></th>\n",
       "    </tr>\n",
       "  </thead>\n",
       "  <tbody>\n",
       "    <tr>\n",
       "      <th>AIREDALE, WHARFEDALE AND CRAVEN CCG</th>\n",
       "      <td>5081</td>\n",
       "      <td>600</td>\n",
       "      <td>11.808699</td>\n",
       "    </tr>\n",
       "    <tr>\n",
       "      <th>ASHFORD CCG</th>\n",
       "      <td>3521</td>\n",
       "      <td>119</td>\n",
       "      <td>3.379722</td>\n",
       "    </tr>\n",
       "    <tr>\n",
       "      <th>BARKING &amp; DAGENHAM CCG</th>\n",
       "      <td>6031</td>\n",
       "      <td>2999</td>\n",
       "      <td>49.726414</td>\n",
       "    </tr>\n",
       "    <tr>\n",
       "      <th>BARNET CCG</th>\n",
       "      <td>9132</td>\n",
       "      <td>3235</td>\n",
       "      <td>35.424880</td>\n",
       "    </tr>\n",
       "    <tr>\n",
       "      <th>BARNSLEY CCG</th>\n",
       "      <td>14304</td>\n",
       "      <td>4509</td>\n",
       "      <td>31.522651</td>\n",
       "    </tr>\n",
       "  </tbody>\n",
       "</table>\n",
       "</div>"
      ],
      "text/plain": [
       "                                     Items  sevendayitems  percent_seven_days\n",
       "PCO_Name                                                                     \n",
       "AIREDALE, WHARFEDALE AND CRAVEN CCG   5081            600           11.808699\n",
       "ASHFORD CCG                           3521            119            3.379722\n",
       "BARKING & DAGENHAM CCG                6031           2999           49.726414\n",
       "BARNET CCG                            9132           3235           35.424880\n",
       "BARNSLEY CCG                         14304           4509           31.522651"
      ]
     },
     "execution_count": 16,
     "metadata": {},
     "output_type": "execute_result"
    }
   ],
   "source": [
    "dosette_boxes_ccg = pd.concat([ccg_total, ccg_sevenday_total], axis=1, join='inner')\n",
    "dosette_boxes_ccg[\"percent_seven_days\"] = 100*(dosette_boxes_ccg.sevendayitems/dosette_boxes_ccg.Items).fillna(0)\n",
    "dosette_boxes_ccg.head()"
   ]
  },
  {
   "cell_type": "code",
   "execution_count": 17,
   "metadata": {},
   "outputs": [],
   "source": [
    "dosette_boxes_ccg.to_csv('aspirin.csv')"
   ]
  },
  {
   "cell_type": "code",
   "execution_count": 18,
   "metadata": {},
   "outputs": [
    {
     "data": {
      "text/plain": [
       "Items            1830222.0\n",
       "sevendayitems     377700.0\n",
       "dtype: float64"
      ]
     },
     "execution_count": 18,
     "metadata": {},
     "output_type": "execute_result"
    }
   ],
   "source": [
    "#work out english total\n",
    "eng_total2 = dosette_boxes_ccg.sum()[['Items','sevendayitems']]\n",
    "eng_total2"
   ]
  },
  {
   "cell_type": "markdown",
   "metadata": {},
   "source": [
    "circa 21% of Aspirin 75mg items are written as a seven day prescription."
   ]
  }
 ],
 "metadata": {
  "kernelspec": {
   "display_name": "Python 3",
   "language": "python",
   "name": "python3"
  },
  "language_info": {
   "codemirror_mode": {
    "name": "ipython",
    "version": 3
   },
   "file_extension": ".py",
   "mimetype": "text/x-python",
   "name": "python",
   "nbconvert_exporter": "python",
   "pygments_lexer": "ipython3",
   "version": "3.6.5"
  }
 },
 "nbformat": 4,
 "nbformat_minor": 2
}
