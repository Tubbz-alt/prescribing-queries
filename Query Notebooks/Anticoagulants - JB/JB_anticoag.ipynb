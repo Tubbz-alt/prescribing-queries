{
 "cells": [
  {
   "cell_type": "code",
   "execution_count": 1,
   "metadata": {},
   "outputs": [],
   "source": [
    "##importing libraries\n",
    "import pandas as pd\n",
    "import numpy as np\n",
    "from ebmdatalab import bq, maps, charts"
   ]
  },
  {
   "cell_type": "code",
   "execution_count": null,
   "metadata": {},
   "outputs": [
    {
     "name": "stderr",
     "output_type": "stream",
     "text": [
      "C:\\Users\\bmackenna\\Anaconda3\\lib\\site-packages\\pandas\\io\\gbq.py:149: FutureWarning: verbose is deprecated and will be removed in a future version. Set logging level in order to vary verbosity\n",
      "  credentials=credentials, verbose=verbose, private_key=private_key)\n"
     ]
    }
   ],
   "source": [
    "##extracting anticoag info as requested by user\n",
    "sql = '''\n",
    "SELECT\n",
    "  month,\n",
    "  presc.practice,\n",
    "  prac.name, \n",
    "  prac.postcode,\n",
    "  bnf_code AS BNFCode,\n",
    "  bnf_name AS BNFName,\n",
    "  SUM(items) AS TotalItems,\n",
    "  SUM(actual_cost) AS TotalCost  \n",
    "FROM\n",
    "  ebmdatalab.hscic.normalised_prescribing_standard AS presc\n",
    "JOIN\n",
    "  ebmdatalab.hscic.practices prac\n",
    "ON\n",
    "  presc.practice = prac.code\n",
    "WHERE\n",
    "  (bnf_code LIKE \"0208020Y0%\" ##rivaroxaban1\n",
    "  OR bnf_code LIKE \"0208020X0%\" ##dabigatran1\n",
    "  OR bnf_code LIKE \"0208020Z0%\" ##apixaban1\n",
    "  OR bnf_code LIKE \"0208020AA%\" ##edoxaban1\n",
    "  OR bnf_code LIKE \"0208020V0%\") ##warfarin1\n",
    "  AND\n",
    "  (month >= \"2018-04-01\")\n",
    "GROUP BY\n",
    "  month,\n",
    "presc.practice,\n",
    "  prac.name,  \n",
    "  prac.postcode,\n",
    "  bnf_code,\n",
    "  bnf_name\n",
    "  '''\n",
    "\n",
    "df_anticoag_jb = bq.cached_read(sql, csv_path='anticoagjb.csv')\n",
    "df_anticoag_jb.head(50)"
   ]
  },
  {
   "cell_type": "code",
   "execution_count": null,
   "metadata": {},
   "outputs": [],
   "source": []
  }
 ],
 "metadata": {
  "kernelspec": {
   "display_name": "Python 3",
   "language": "python",
   "name": "python3"
  },
  "language_info": {
   "codemirror_mode": {
    "name": "ipython",
    "version": 3
   },
   "file_extension": ".py",
   "mimetype": "text/x-python",
   "name": "python",
   "nbconvert_exporter": "python",
   "pygments_lexer": "ipython3",
   "version": "3.6.5"
  }
 },
 "nbformat": 4,
 "nbformat_minor": 2
}
